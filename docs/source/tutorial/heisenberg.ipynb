{
  "cells": [
    {
      "cell_type": "markdown",
      "metadata": {
        "id": "1L3j_iDngtG_"
      },
      "source": [
        "# Heisenberg Model"
      ]
    },
    {
      "cell_type": "code",
      "execution_count": 1,
      "metadata": {
        "id": "DJLjdeRfgeSH"
      },
      "outputs": [],
      "source": [
        "!pip install block2==0.5.1 -qq --progress-bar off"
      ]
    },
    {
      "cell_type": "markdown",
      "metadata": {
        "id": "kCcbGRlYg0eS"
      },
      "source": [
        "## Introduction\n",
        "\n",
        "In this tutorial we explain how to solve the Heisenberg model using the python interface of ``block2``.\n",
        "\n",
        "First, we have to define the \"site-spin\" of the model. The parameter ``heis_twos`` represents two times the spin in each site. Namely, for $S = 1/2$ Heisenberg model, ``heis_twos = 1``, for $S = 1$ Heisenberg model, ``heis_twos = 2``, etc. Note that arbitrary non-negative half-integer and integer $S$ can be supported in ``block2``.\n",
        "\n",
        "Second, we can solve the model using the SU2 symmetry (``SU2`` mode) or U1 symmetry (``SGB`` mode). The SU2 symmetry can be more efficient (for large ``S``) and can generate states with well-defined total spin symmetry, but requires some additional rearrangement of the Hamiltonian terms."
      ]
    },
    {
      "cell_type": "markdown",
      "metadata": {
        "id": "eeJ-l24EiRPE"
      },
      "source": [
        "## The ``SGB`` Mode\n",
        "\n",
        "The Hamiltonian is\n",
        "\n",
        "$$\n",
        "\\hat{H} = \\sum_{i=1}^{L-1} \\Big( \\frac{1}{2} S^+_{i} S^-_{i+1} + \\frac{1}{2} S^-_{i} S^+_{i+1} + S^z_{i} S^z_{i+1} \\Big)\n",
        "$$\n",
        "\n",
        "We can solve this model using the following code:"
      ]
    },
    {
      "cell_type": "code",
      "execution_count": 2,
      "metadata": {
        "colab": {
          "base_uri": "https://localhost:8080/"
        },
        "id": "Pu9I8YCwgwvz",
        "outputId": "51d295e1-8cbb-49d9-b8ae-c8bc44b854b8"
      },
      "outputs": [
        {
          "name": "stdout",
          "output_type": "stream",
          "text": [
            "Sweep =    0 | Direction =  forward | Bond dimension =  250 | Noise =  1.00e-05 | Dav threshold =  1.00e-06\n",
            "Time elapsed =     20.955 | E =     -43.9659949576 | DW = 4.08e-10\n",
            "\n",
            "Sweep =    1 | Direction = backward | Bond dimension =  250 | Noise =  1.00e-05 | Dav threshold =  1.00e-06\n",
            "Time elapsed =     27.779 | E =     -44.1247730561 | DE = -1.59e-01 | DW = 4.39e-13\n",
            "\n",
            "Sweep =    2 | Direction =  forward | Bond dimension =  250 | Noise =  1.00e-05 | Dav threshold =  1.00e-06\n",
            "Time elapsed =     32.813 | E =     -44.1277373578 | DE = -2.96e-03 | DW = 4.40e-13\n",
            "\n",
            "Sweep =    3 | Direction = backward | Bond dimension =  250 | Noise =  1.00e-05 | Dav threshold =  1.00e-06\n",
            "Time elapsed =     36.135 | E =     -44.1277373579 | DE = -4.16e-12 | DW = 8.90e-14\n",
            "\n",
            "Sweep =    4 | Direction =  forward | Bond dimension =  500 | Noise =  1.00e-06 | Dav threshold =  1.00e-08\n",
            "Time elapsed =     48.790 | E =     -44.1277398916 | DE = -2.53e-06 | DW = 3.06e-17\n",
            "\n",
            "Sweep =    5 | Direction = backward | Bond dimension =  500 | Noise =  1.00e-06 | Dav threshold =  1.00e-08\n",
            "Time elapsed =     62.993 | E =     -44.1277398916 | DE = -7.18e-13 | DW = 3.64e-17\n",
            "\n",
            "Sweep =    6 | Direction =  forward | Bond dimension =  500 | Noise =  0.00e+00 | Dav threshold =  1.00e-08\n",
            "Time elapsed =     75.033 | E =     -44.1277398916 | DE = 0.00e+00 | DW = 1.10e-20\n",
            "\n",
            "DMRG energy =  -44.127739891617388\n"
          ]
        }
      ],
      "source": [
        "import numpy as np\n",
        "from pyblock2.driver.core import DMRGDriver, SymmetryTypes\n",
        "\n",
        "L = 100\n",
        "heis_twos = 1\n",
        "\n",
        "driver = DMRGDriver(scratch=\"./tmp\", symm_type=SymmetryTypes.SGB, n_threads=4)\n",
        "driver.initialize_system(n_sites=L, heis_twos=heis_twos, heis_twosz=0)\n",
        "\n",
        "b = driver.expr_builder()\n",
        "for i in range(L - 1):\n",
        "    b.add_term(\"PM\", [i, i + 1], 0.5)\n",
        "    b.add_term(\"MP\", [i, i + 1], 0.5)\n",
        "    b.add_term(\"ZZ\", [i, i + 1], 1.0)\n",
        "heis_mpo = driver.get_mpo(b.finalize(), iprint=0)\n",
        "\n",
        "def run_dmrg(driver, mpo):\n",
        "    ket = driver.get_random_mps(tag=\"KET\", bond_dim=250, nroots=1)\n",
        "    bond_dims = [250] * 4 + [500] * 4\n",
        "    noises = [1e-5] * 4 + [1e-6] * 2 + [0]\n",
        "    thrds = [1e-6] * 4 + [1e-8] * 4\n",
        "    return driver.dmrg(\n",
        "        mpo,\n",
        "        ket,\n",
        "        n_sweeps=8,\n",
        "        bond_dims=bond_dims,\n",
        "        noises=noises,\n",
        "        thrds=thrds,\n",
        "        cutoff=1E-24,\n",
        "        iprint=1,\n",
        "    )\n",
        "\n",
        "energies = run_dmrg(driver, heis_mpo)\n",
        "print('DMRG energy = %20.15f' % energies)"
      ]
    },
    {
      "cell_type": "markdown",
      "metadata": {
        "id": "OqDTHLmNlbsG"
      },
      "source": [
        "## The ``SU2`` Mode\n",
        "\n",
        "To solve the model in the ``SU2`` mode, we define the following (triplet) spin tensor operator:\n",
        "\n",
        "$$ \\big(T_p\\big)^{[1]} := \\begin{pmatrix} -S^+_p \\\\ \\sqrt{2}S^z_p \\\\ S^-_p \\end{pmatrix}^{[1]} $$\n",
        "\n",
        "Then we have\n",
        "\n",
        "$$\n",
        "\\big(T_p\\big)^{[1]} \\otimes_{[0]} \\big(T_q\\big)^{[1]} =\n",
        "\\begin{pmatrix} -S^+_p \\\\ \\sqrt{2}S^z_p \\\\ S^-_p \\end{pmatrix}^{[1]}\n",
        "\\otimes_{[0]}\n",
        "\\begin{pmatrix} -S^+_q \\\\ \\sqrt{2}S^z_q \\\\ S^-_q \\end{pmatrix}^{[1]} \\\\\n",
        "=\\frac{1}{\\sqrt{3}}\n",
        "\\begin{pmatrix} -S^+_p S^-_q -S^-_p S^+_q -2 S^z_p S^z_q \\end{pmatrix}^{[0]}\n",
        "=-\\frac{2}{\\sqrt{3}}\n",
        "\\begin{pmatrix} \\frac{1}{2} S^+_p S^-_q + \\frac{1}{2} S^-_p S^+_q + S^z_p S^z_q \\end{pmatrix}^{[0]}\n",
        "$$"
      ]
    },
    {
      "cell_type": "markdown",
      "metadata": {
        "id": "nlNrFNUvon5h"
      },
      "source": [
        "Note that in the above calculation, we have used the following CG factors:"
      ]
    },
    {
      "cell_type": "code",
      "execution_count": 2,
      "metadata": {
        "colab": {
          "base_uri": "https://localhost:8080/"
        },
        "id": "wSNAL3Tyj-xX",
        "outputId": "8c2e446a-8872-4f6f-871f-cb3d37e6b977"
      },
      "outputs": [
        {
          "name": "stdout",
          "output_type": "stream",
          "text": [
            "<Jp=1,Jzp=+1; Jq=1,Jzq=-1|J=0,Jz=0> =  0.5773502691896257\n",
            "<Jp=1,Jzp=-1; Jq=1,Jzq=+1|J=0,Jz=0> =  0.5773502691896257\n",
            "<Jp=1,Jzp= 0; Jq=1,Jzq= 0|J=0,Jz=0> =  -0.5773502691896257\n",
            "0.5773502691896258\n"
          ]
        }
      ],
      "source": [
        "from block2 import SU2CG\n",
        "print('<Jp=1,Jzp=+1; Jq=1,Jzq=-1|J=0,Jz=0> = ', SU2CG().cg(2, 2, 0, 2, -2, 0))\n",
        "print('<Jp=1,Jzp=-1; Jq=1,Jzq=+1|J=0,Jz=0> = ', SU2CG().cg(2, 2, 0, -2, 2, 0))\n",
        "print('<Jp=1,Jzp= 0; Jq=1,Jzq= 0|J=0,Jz=0> = ', SU2CG().cg(2, 2, 0, 0, 0, 0))\n",
        "print(1 / 3 ** 0.5)"
      ]
    },
    {
      "cell_type": "markdown",
      "metadata": {
        "id": "GsBGJzT7oyTA"
      },
      "source": [
        "So the Hamiltonian in ``SU2`` notation is\n",
        "\n",
        "$$\n",
        "\\hat{H} = -\\frac{\\sqrt{3}}{2}\\sum_{i=1}^{L-1} \\big( T_i \\big)^{[1]} \\otimes_{[0]} \\big( T_{i+1} \\big)^{[1]}\n",
        "$$\n",
        "\n",
        "We can solve this model using the following code:"
      ]
    },
    {
      "cell_type": "code",
      "execution_count": 3,
      "metadata": {
        "colab": {
          "base_uri": "https://localhost:8080/"
        },
        "id": "_RjfaHzIoDmA",
        "outputId": "d48b6afb-3112-4488-bb41-2de918f04c17"
      },
      "outputs": [
        {
          "name": "stdout",
          "output_type": "stream",
          "text": [
            "Sweep =    0 | Direction =  forward | Bond dimension =  250 | Noise =  1.00e-05 | Dav threshold =  1.00e-06\n",
            "Time elapsed =     49.375 | E =     -44.1251114602 | DW = 7.77e-12\n",
            "\n",
            "Sweep =    1 | Direction = backward | Bond dimension =  250 | Noise =  1.00e-05 | Dav threshold =  1.00e-06\n",
            "Time elapsed =     55.857 | E =     -44.1277396028 | DE = -2.63e-03 | DW = 1.11e-14\n",
            "\n",
            "Sweep =    2 | Direction =  forward | Bond dimension =  250 | Noise =  1.00e-05 | Dav threshold =  1.00e-06\n",
            "Time elapsed =     60.109 | E =     -44.1277396028 | DE = 7.11e-15 | DW = 8.25e-16\n",
            "\n",
            "Sweep =    3 | Direction = backward | Bond dimension =  250 | Noise =  1.00e-05 | Dav threshold =  1.00e-06\n",
            "Time elapsed =     64.354 | E =     -44.1277396028 | DE = -1.21e-13 | DW = 5.93e-16\n",
            "\n",
            "Sweep =    4 | Direction =  forward | Bond dimension =  500 | Noise =  1.00e-06 | Dav threshold =  1.00e-08\n",
            "Time elapsed =     75.095 | E =     -44.1277398862 | DE = -2.83e-07 | DW = 1.41e-19\n",
            "\n",
            "Sweep =    5 | Direction = backward | Bond dimension =  500 | Noise =  1.00e-06 | Dav threshold =  1.00e-08\n",
            "Time elapsed =     89.951 | E =     -44.1277398862 | DE = -1.71e-13 | DW = 4.88e-20\n",
            "\n",
            "Sweep =    6 | Direction =  forward | Bond dimension =  500 | Noise =  0.00e+00 | Dav threshold =  1.00e-08\n",
            "Time elapsed =     98.810 | E =     -44.1277398862 | DE = -6.39e-14 | DW = 2.12e-23\n",
            "\n",
            "DMRG energy =  -44.127739886233790\n"
          ]
        }
      ],
      "source": [
        "import numpy as np\n",
        "from pyblock2.driver.core import DMRGDriver, SymmetryTypes\n",
        "\n",
        "L = 100\n",
        "heis_twos = 1\n",
        "\n",
        "driver = DMRGDriver(scratch=\"./tmp\", symm_type=SymmetryTypes.SU2, n_threads=4)\n",
        "driver.initialize_system(n_sites=L, heis_twos=heis_twos, spin=0)\n",
        "\n",
        "b = driver.expr_builder()\n",
        "for i in range(L - 1):\n",
        "    b.add_term(\"(T+T)0\", [i, i + 1], -np.sqrt(3) / 2)\n",
        "heis_mpo = driver.get_mpo(b.finalize(), iprint=0)\n",
        "\n",
        "energies = run_dmrg(driver, heis_mpo)\n",
        "print('DMRG energy = %20.15f' % energies)"
      ]
    },
    {
      "cell_type": "code",
      "execution_count": null,
      "metadata": {
        "id": "xa6zGA3JpryN"
      },
      "outputs": [],
      "source": []
    }
  ],
  "metadata": {
    "colab": {
      "provenance": []
    },
    "kernelspec": {
      "display_name": "base",
      "language": "python",
      "name": "python3"
    },
    "language_info": {
      "name": "python",
      "version": "3.7.4 (default, Aug 13 2019, 20:35:49) \n[GCC 7.3.0]"
    },
    "vscode": {
      "interpreter": {
        "hash": "27e05368924b5fa5d1b4676765ee251cffbbae96bfd5fe75f3294f22031a42f3"
      }
    }
  },
  "nbformat": 4,
  "nbformat_minor": 0
}
