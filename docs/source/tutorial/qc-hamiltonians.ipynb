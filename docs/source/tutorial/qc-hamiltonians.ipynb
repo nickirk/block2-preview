{
  "cells": [
    {
      "cell_type": "markdown",
      "metadata": {
        "id": "f1v7ZIHNvg7D"
      },
      "source": [
        "# Quantum Chemistry Hamiltonians"
      ]
    },
    {
      "cell_type": "code",
      "execution_count": 1,
      "metadata": {
        "id": "yVRKfOfyvaox"
      },
      "outputs": [],
      "source": [
        "!pip install block2==0.5.1 -qq --progress-bar off\n",
        "!pip install pyscf==2.1.1 -qq --progress-bar off"
      ]
    },
    {
      "cell_type": "markdown",
      "metadata": {
        "id": "QbsjgwANwd-C"
      },
      "source": [
        "## Introduction\n",
        "\n",
        "In this tutorial we explain how to perform quantum chemistry DMRG using the python interface of ``block2``.\n",
        "\n",
        "The quantum chemistry Hamiltonian in its second quantized form has to be defined in a set of orbitals, such as the Hartree-Fock orbitals. The symmetry that can be used in the DMRG calculation is thus has a dependence on the symmetry of the Hartree-Fock orbitals.\n",
        "\n",
        "1. For spin-restricted Hartree-Fock (RHF) orbitals, we can perform spin-adapted DMRG (``SU2`` mode in ``block2``) or non-spin-adapted DMRG with any lower symmetries (``SZ`` or ``SGF``).\n",
        "\n",
        "2. For spin-unrestricted Hartree-Fock (UHF) orbitals, we can perform non-spin-adapted DMRG (``SZ`` mode in ``block2``) or DMRG with lower symmetries (such as ``SGF``).\n",
        "\n",
        "3. For general Hartree-Fock (GHF) orbitals, we can perform DMRG in spin-orbitals (``SGF`` mode in ``block2``) or first translate the Hamiltonian into the qubit Hamiltonian then do DMRG (``SGB`` mode in ``block2``).\n",
        "\n",
        "4. For relativistic Dirac Hartree-Fock (DHF) orbitals, we can perform DMRG in complex spin-orbitals (``SGFCPX`` mode in ``block2``).\n",
        "\n",
        "Next, we will explain how to set up the integrals and perform DMRG in each of the modes (1) (2) (3) and (4). The quantum chemistry integrals will be generated using ``pyscf`` and transformed using funtions defined in ``pyblock2._pyscf.ao2mo``.\n"
      ]
    },
    {
      "cell_type": "code",
      "execution_count": 2,
      "metadata": {
        "id": "aEtzPUucyvCg"
      },
      "outputs": [],
      "source": [
        "import numpy as np\n",
        "from pyblock2._pyscf.ao2mo import integrals as itg\n",
        "from pyblock2.driver.core import DMRGDriver, SymmetryTypes"
      ]
    },
    {
      "cell_type": "markdown",
      "metadata": {
        "id": "kzFc7fBTyuQ_"
      },
      "source": [
        "## Spin-Restricted Integrals\n",
        "\n",
        "Here we use ``get_rhf_integrals`` function to get the integrals. Note that in order to do DMRG in a CASCI space, one can set the ``ncore`` (number of core orbitals) and ``ncas`` (number of active orbitals) parameters in ``get_*_integrals``. ``ncas=None`` will include all orbitals in DMRG.\n",
        "\n",
        "For medium to large scale DMRG calculations, it is highly recommended to use a scratch space with high IO speed rather than the ``./tmp`` used in the following example. One also need to set a suitable ``stack_mem`` in the ``DMRGDriver`` constructor to set the memory used for storing renormalized operators (in bytes). The default is ``stack_mem=int(1024**3)`` (1 GB). For medium scale calculations 10 to 30 GB might be required."
      ]
    },
    {
      "cell_type": "code",
      "execution_count": 3,
      "metadata": {
        "colab": {
          "base_uri": "https://localhost:8080/"
        },
        "id": "6t5RHG5hvv8V",
        "outputId": "9702b2c0-b279-40b5-8d2f-0f9e464a4299"
      },
      "outputs": [
        {
          "name": "stdout",
          "output_type": "stream",
          "text": [
            "integral symmetrize error =  6.068111737226223e-14\n",
            "integral cutoff error =  0.0\n",
            "mpo terms =        972\n",
            "\n",
            "Build MPO | Nsites =    10 | Nterms =        972 | Algorithm = FastBIP | Cutoff = 1.00e-20\n",
            " Site =     0 /    10 .. Mmpo =    13 DW = 0.00e+00 NNZ =       13 SPT = 0.0000 Tmvc = 0.000 T = 0.011\n",
            " Site =     1 /    10 .. Mmpo =    34 DW = 0.00e+00 NNZ =       59 SPT = 0.8665 Tmvc = 0.000 T = 0.004\n",
            " Site =     2 /    10 .. Mmpo =    56 DW = 0.00e+00 NNZ =      117 SPT = 0.9386 Tmvc = 0.001 T = 0.008\n",
            " Site =     3 /    10 .. Mmpo =    70 DW = 0.00e+00 NNZ =      363 SPT = 0.9074 Tmvc = 0.000 T = 0.007\n",
            " Site =     4 /    10 .. Mmpo =    80 DW = 0.00e+00 NNZ =      217 SPT = 0.9613 Tmvc = 0.000 T = 0.006\n",
            " Site =     5 /    10 .. Mmpo =    94 DW = 0.00e+00 NNZ =      201 SPT = 0.9733 Tmvc = 0.000 T = 0.004\n",
            " Site =     6 /    10 .. Mmpo =    54 DW = 0.00e+00 NNZ =      169 SPT = 0.9667 Tmvc = 0.000 T = 0.003\n",
            " Site =     7 /    10 .. Mmpo =    30 DW = 0.00e+00 NNZ =       73 SPT = 0.9549 Tmvc = 0.000 T = 0.003\n",
            " Site =     8 /    10 .. Mmpo =    13 DW = 0.00e+00 NNZ =       41 SPT = 0.8949 Tmvc = 0.000 T = 0.003\n",
            " Site =     9 /    10 .. Mmpo =     1 DW = 0.00e+00 NNZ =       13 SPT = 0.0000 Tmvc = 0.000 T = 0.003\n",
            "Ttotal =      0.051 Tmvc-total = 0.002 MPO bond dimension =    94 MaxDW = 0.00e+00\n",
            "NNZ =         1266 SIZE =        26498 SPT = 0.9522\n",
            "\n",
            "Rank =     0 Ttotal =      0.100 MPO method = FastBipartite bond dimension =      94 NNZ =         1266 SIZE =        26498 SPT = 0.9522\n",
            "\n",
            "Sweep =    0 | Direction =  forward | Bond dimension =  250 | Noise =  1.00e-04 | Dav threshold =  1.00e-10\n",
            "Time elapsed =      0.528 | E =    -107.6541224475 | DW = 1.87e-10\n",
            "\n",
            "Sweep =    1 | Direction = backward | Bond dimension =  250 | Noise =  1.00e-04 | Dav threshold =  1.00e-10\n",
            "Time elapsed =      0.759 | E =    -107.6541224475 | DE = -4.09e-12 | DW = 6.02e-20\n",
            "\n",
            "Sweep =    2 | Direction =  forward | Bond dimension =  250 | Noise =  1.00e-04 | Dav threshold =  1.00e-10\n",
            "Time elapsed =      0.993 | E =    -107.6541224475 | DE = 0.00e+00 | DW = 1.87e-10\n",
            "\n",
            "Sweep =    3 | Direction = backward | Bond dimension =  250 | Noise =  1.00e-04 | Dav threshold =  1.00e-10\n",
            "Time elapsed =      1.234 | E =    -107.6541224475 | DE = -3.98e-13 | DW = 5.06e-20\n",
            "\n",
            "Sweep =    4 | Direction =  forward | Bond dimension =  500 | Noise =  1.00e-05 | Dav threshold =  1.00e-10\n",
            "Time elapsed =      1.504 | E =    -107.6541224475 | DE = 0.00e+00 | DW = 2.84e-20\n",
            "\n",
            "Sweep =    5 | Direction = backward | Bond dimension =  500 | Noise =  1.00e-05 | Dav threshold =  1.00e-10\n",
            "Time elapsed =      1.747 | E =    -107.6541224475 | DE = 2.84e-14 | DW = 5.26e-20\n",
            "\n",
            "Sweep =    6 | Direction =  forward | Bond dimension =  500 | Noise =  1.00e-05 | Dav threshold =  1.00e-10\n",
            "Time elapsed =      2.005 | E =    -107.6541224475 | DE = 0.00e+00 | DW = 2.12e-20\n",
            "\n",
            "Sweep =    7 | Direction = backward | Bond dimension =  500 | Noise =  1.00e-05 | Dav threshold =  1.00e-10\n",
            "Time elapsed =      2.251 | E =    -107.6541224475 | DE = 2.84e-14 | DW = 5.24e-20\n",
            "\n",
            "Sweep =    8 | Direction =  forward | Bond dimension =  500 | Noise =  0.00e+00 | Dav threshold =  1.00e-09\n",
            "Time elapsed =      2.430 | E =    -107.6541224475 | DE = -2.84e-14 | DW = 3.74e-20\n",
            "\n",
            "DMRG energy = -107.654122447524472\n"
          ]
        }
      ],
      "source": [
        "from pyscf import gto, scf\n",
        "\n",
        "mol = gto.M(atom=\"N 0 0 0; N 0 0 1.1\", basis=\"sto3g\", symmetry=\"d2h\", verbose=0)\n",
        "mf = scf.RHF(mol).run(conv_tol=1E-14)\n",
        "ncas, n_elec, spin, ecore, h1e, g2e, orb_sym = itg.get_rhf_integrals(mf,\n",
        "    ncore=0, ncas=None, g2e_symm=8)\n",
        "\n",
        "driver = DMRGDriver(scratch=\"./tmp\", symm_type=SymmetryTypes.SU2, n_threads=4)\n",
        "driver.initialize_system(n_sites=ncas, n_elec=n_elec, spin=spin, orb_sym=orb_sym)\n",
        "\n",
        "mpo = driver.get_qc_mpo(h1e=h1e, g2e=g2e, ecore=ecore, iprint=1)\n",
        "\n",
        "def run_dmrg(driver, mpo):\n",
        "    ket = driver.get_random_mps(tag=\"GS\", bond_dim=250, nroots=1)\n",
        "    bond_dims = [250] * 4 + [500] * 4\n",
        "    noises = [1e-4] * 4 + [1e-5] * 4 + [0]\n",
        "    thrds = [1e-10] * 8\n",
        "    return driver.dmrg(\n",
        "        mpo,\n",
        "        ket,\n",
        "        n_sweeps=20,\n",
        "        bond_dims=bond_dims,\n",
        "        noises=noises,\n",
        "        thrds=thrds,\n",
        "        iprint=1,\n",
        "    )\n",
        "\n",
        "energies = run_dmrg(driver, mpo)\n",
        "print('DMRG energy = %20.15f' % energies)"
      ]
    },
    {
      "cell_type": "markdown",
      "metadata": {
        "id": "ErrotOt42zbM"
      },
      "source": [
        "We can also run non-spin-adapted DMRG (``SZ`` mode) using the restricted integrals."
      ]
    },
    {
      "cell_type": "code",
      "execution_count": 4,
      "metadata": {
        "colab": {
          "base_uri": "https://localhost:8080/"
        },
        "id": "rUIaHYBZ2gBZ",
        "outputId": "98e58a92-7261-4351-d66a-642865a2b337"
      },
      "outputs": [
        {
          "name": "stdout",
          "output_type": "stream",
          "text": [
            "integral symmetrize error =  7.089394717975372e-14\n",
            "integral cutoff error =  0.0\n",
            "mpo terms =       2778\n",
            "\n",
            "Build MPO | Nsites =    10 | Nterms =       2778 | Algorithm = FastBIP | Cutoff = 1.00e-20\n",
            " Site =     0 /    10 .. Mmpo =    26 DW = 0.00e+00 NNZ =       26 SPT = 0.0000 Tmvc = 0.000 T = 0.008\n",
            " Site =     1 /    10 .. Mmpo =    66 DW = 0.00e+00 NNZ =      143 SPT = 0.9167 Tmvc = 0.001 T = 0.005\n",
            " Site =     2 /    10 .. Mmpo =   110 DW = 0.00e+00 NNZ =      283 SPT = 0.9610 Tmvc = 0.001 T = 0.006\n",
            " Site =     3 /    10 .. Mmpo =   138 DW = 0.00e+00 NNZ =     1023 SPT = 0.9326 Tmvc = 0.001 T = 0.011\n",
            " Site =     4 /    10 .. Mmpo =   158 DW = 0.00e+00 NNZ =      535 SPT = 0.9755 Tmvc = 0.001 T = 0.016\n",
            " Site =     5 /    10 .. Mmpo =   186 DW = 0.00e+00 NNZ =      463 SPT = 0.9842 Tmvc = 0.000 T = 0.011\n",
            " Site =     6 /    10 .. Mmpo =   106 DW = 0.00e+00 NNZ =      415 SPT = 0.9790 Tmvc = 0.000 T = 0.011\n",
            " Site =     7 /    10 .. Mmpo =    58 DW = 0.00e+00 NNZ =      163 SPT = 0.9735 Tmvc = 0.000 T = 0.003\n",
            " Site =     8 /    10 .. Mmpo =    26 DW = 0.00e+00 NNZ =       87 SPT = 0.9423 Tmvc = 0.000 T = 0.008\n",
            " Site =     9 /    10 .. Mmpo =     1 DW = 0.00e+00 NNZ =       26 SPT = 0.0000 Tmvc = 0.000 T = 0.003\n",
            "Ttotal =      0.083 Tmvc-total = 0.004 MPO bond dimension =   186 MaxDW = 0.00e+00\n",
            "NNZ =         3164 SIZE =       102772 SPT = 0.9692\n",
            "\n",
            "Rank =     0 Ttotal =      0.192 MPO method = FastBipartite bond dimension =     186 NNZ =         3164 SIZE =       102772 SPT = 0.9692\n",
            "\n",
            "Sweep =    0 | Direction =  forward | Bond dimension =  250 | Noise =  1.00e-04 | Dav threshold =  1.00e-10\n",
            "Time elapsed =      1.378 | E =    -107.6541224475 | DW = 4.14e-08\n",
            "\n",
            "Sweep =    1 | Direction = backward | Bond dimension =  250 | Noise =  1.00e-04 | Dav threshold =  1.00e-10\n",
            "Time elapsed =      2.161 | E =    -107.6541224475 | DE = -3.67e-12 | DW = 5.14e-09\n",
            "\n",
            "Sweep =    2 | Direction =  forward | Bond dimension =  250 | Noise =  1.00e-04 | Dav threshold =  1.00e-10\n",
            "Time elapsed =      2.944 | E =    -107.6541224475 | DE = 1.71e-12 | DW = 4.14e-08\n",
            "\n",
            "Sweep =    3 | Direction = backward | Bond dimension =  250 | Noise =  1.00e-04 | Dav threshold =  1.00e-10\n",
            "Time elapsed =      3.738 | E =    -107.6541224475 | DE = -2.05e-12 | DW = 5.20e-09\n",
            "\n",
            "Sweep =    4 | Direction =  forward | Bond dimension =  500 | Noise =  1.00e-05 | Dav threshold =  1.00e-10\n",
            "Time elapsed =      4.701 | E =    -107.6541224475 | DE = -1.14e-12 | DW = 3.60e-11\n",
            "\n",
            "Sweep =    5 | Direction = backward | Bond dimension =  500 | Noise =  1.00e-05 | Dav threshold =  1.00e-10\n",
            "Time elapsed =      5.673 | E =    -107.6541224475 | DE = 9.09e-13 | DW = 1.77e-19\n",
            "\n",
            "Sweep =    6 | Direction =  forward | Bond dimension =  500 | Noise =  1.00e-05 | Dav threshold =  1.00e-10\n",
            "Time elapsed =      6.587 | E =    -107.6541224475 | DE = -2.84e-14 | DW = 3.60e-11\n",
            "\n",
            "Sweep =    7 | Direction = backward | Bond dimension =  500 | Noise =  1.00e-05 | Dav threshold =  1.00e-10\n",
            "Time elapsed =      7.443 | E =    -107.6541224475 | DE = -1.05e-12 | DW = 2.13e-19\n",
            "\n",
            "Sweep =    8 | Direction =  forward | Bond dimension =  500 | Noise =  0.00e+00 | Dav threshold =  1.00e-09\n",
            "Time elapsed =      7.814 | E =    -107.6541224475 | DE = -2.84e-14 | DW = 8.20e-20\n",
            "\n",
            "DMRG energy = -107.654122447524614\n"
          ]
        }
      ],
      "source": [
        "driver = DMRGDriver(scratch=\"./tmp\", symm_type=SymmetryTypes.SZ, n_threads=4)\n",
        "driver.initialize_system(n_sites=ncas, n_elec=n_elec, spin=spin, orb_sym=orb_sym)\n",
        "\n",
        "mpo = driver.get_qc_mpo(h1e=h1e, g2e=g2e, ecore=ecore, iprint=1)\n",
        "energies = run_dmrg(driver, mpo)\n",
        "print('DMRG energy = %20.15f' % energies)"
      ]
    },
    {
      "cell_type": "markdown",
      "metadata": {
        "id": "jeeDGMB83AaU"
      },
      "source": [
        "We can also run DMRG in spin orbitals (``SGF`` mode) using the restricted integrals, which will be much slower."
      ]
    },
    {
      "cell_type": "code",
      "execution_count": 5,
      "metadata": {
        "colab": {
          "base_uri": "https://localhost:8080/"
        },
        "id": "yM1JgseK26_K",
        "outputId": "83f146c4-76ed-4198-e953-ed5d2340d8e3"
      },
      "outputs": [
        {
          "name": "stdout",
          "output_type": "stream",
          "text": [
            "integral symmetrize error =  7.089394717975372e-14\n",
            "integral cutoff error =  0.0\n",
            "mpo terms =       2438\n",
            "\n",
            "Build MPO | Nsites =    20 | Nterms =       2438 | Algorithm = FastBIP | Cutoff = 1.00e-20\n",
            " Site =     0 /    20 .. Mmpo =     7 DW = 0.00e+00 NNZ =        7 SPT = 0.0000 Tmvc = 0.001 T = 0.013\n",
            " Site =     1 /    20 .. Mmpo =    20 DW = 0.00e+00 NNZ =       19 SPT = 0.8643 Tmvc = 0.000 T = 0.017\n",
            " Site =     2 /    20 .. Mmpo =    45 DW = 0.00e+00 NNZ =       45 SPT = 0.9500 Tmvc = 0.001 T = 0.012\n",
            " Site =     3 /    20 .. Mmpo =    62 DW = 0.00e+00 NNZ =      131 SPT = 0.9530 Tmvc = 0.001 T = 0.017\n",
            " Site =     4 /    20 .. Mmpo =    81 DW = 0.00e+00 NNZ =      159 SPT = 0.9683 Tmvc = 0.001 T = 0.010\n",
            " Site =     5 /    20 .. Mmpo =   104 DW = 0.00e+00 NNZ =      203 SPT = 0.9759 Tmvc = 0.001 T = 0.019\n",
            " Site =     6 /    20 .. Mmpo =   125 DW = 0.00e+00 NNZ =      265 SPT = 0.9796 Tmvc = 0.001 T = 0.014\n",
            " Site =     7 /    20 .. Mmpo =   126 DW = 0.00e+00 NNZ =      974 SPT = 0.9382 Tmvc = 0.001 T = 0.056\n",
            " Site =     8 /    20 .. Mmpo =   151 DW = 0.00e+00 NNZ =      188 SPT = 0.9901 Tmvc = 0.000 T = 0.005\n",
            " Site =     9 /    20 .. Mmpo =   148 DW = 0.00e+00 NNZ =      344 SPT = 0.9846 Tmvc = 0.000 T = 0.005\n",
            " Site =    10 /    20 .. Mmpo =   177 DW = 0.00e+00 NNZ =      246 SPT = 0.9906 Tmvc = 0.000 T = 0.004\n",
            " Site =    11 /    20 .. Mmpo =   178 DW = 0.00e+00 NNZ =      402 SPT = 0.9872 Tmvc = 0.000 T = 0.004\n",
            " Site =    12 /    20 .. Mmpo =   147 DW = 0.00e+00 NNZ =      306 SPT = 0.9883 Tmvc = 0.000 T = 0.004\n",
            " Site =    13 /    20 .. Mmpo =   100 DW = 0.00e+00 NNZ =      242 SPT = 0.9835 Tmvc = 0.000 T = 0.003\n",
            " Site =    14 /    20 .. Mmpo =    77 DW = 0.00e+00 NNZ =      150 SPT = 0.9805 Tmvc = 0.000 T = 0.003\n",
            " Site =    15 /    20 .. Mmpo =    54 DW = 0.00e+00 NNZ =       94 SPT = 0.9774 Tmvc = 0.000 T = 0.003\n",
            " Site =    16 /    20 .. Mmpo =    39 DW = 0.00e+00 NNZ =       82 SPT = 0.9611 Tmvc = 0.000 T = 0.003\n",
            " Site =    17 /    20 .. Mmpo =    20 DW = 0.00e+00 NNZ =       50 SPT = 0.9359 Tmvc = 0.000 T = 0.003\n",
            " Site =    18 /    20 .. Mmpo =     7 DW = 0.00e+00 NNZ =       20 SPT = 0.8571 Tmvc = 0.000 T = 0.002\n",
            " Site =    19 /    20 .. Mmpo =     1 DW = 0.00e+00 NNZ =        7 SPT = 0.0000 Tmvc = 0.000 T = 0.003\n",
            "Ttotal =      0.201 Tmvc-total = 0.007 MPO bond dimension =   178 MaxDW = 0.00e+00\n",
            "NNZ =         3934 SIZE =       200866 SPT = 0.9804\n",
            "\n",
            "Rank =     0 Ttotal =      0.394 MPO method = FastBipartite bond dimension =     178 NNZ =         3934 SIZE =       200866 SPT = 0.9804\n",
            "\n",
            "Sweep =    0 | Direction =  forward | Bond dimension =  250 | Noise =  1.00e-04 | Dav threshold =  1.00e-10\n",
            "Time elapsed =      0.873 | E =    -107.6541214061 | DW = 7.63e-08\n",
            "\n",
            "Sweep =    1 | Direction = backward | Bond dimension =  250 | Noise =  1.00e-04 | Dav threshold =  1.00e-10\n",
            "Time elapsed =      1.568 | E =    -107.6541223348 | DE = -9.29e-07 | DW = 6.45e-08\n",
            "\n",
            "Sweep =    2 | Direction =  forward | Bond dimension =  250 | Noise =  1.00e-04 | Dav threshold =  1.00e-10\n",
            "Time elapsed =      2.188 | E =    -107.6541224347 | DE = -9.99e-08 | DW = 7.64e-08\n",
            "\n",
            "Sweep =    3 | Direction = backward | Bond dimension =  250 | Noise =  1.00e-04 | Dav threshold =  1.00e-10\n",
            "Time elapsed =      2.810 | E =    -107.6541224347 | DE = 8.24e-13 | DW = 6.15e-08\n",
            "\n",
            "Sweep =    4 | Direction =  forward | Bond dimension =  500 | Noise =  1.00e-05 | Dav threshold =  1.00e-10\n",
            "Time elapsed =      3.668 | E =    -107.6541224379 | DE = -3.18e-09 | DW = 6.46e-11\n",
            "\n",
            "Sweep =    5 | Direction = backward | Bond dimension =  500 | Noise =  1.00e-05 | Dav threshold =  1.00e-10\n",
            "Time elapsed =      4.461 | E =    -107.6541224379 | DE = -3.40e-11 | DW = 7.31e-20\n",
            "\n",
            "Sweep =    6 | Direction =  forward | Bond dimension =  500 | Noise =  1.00e-05 | Dav threshold =  1.00e-10\n",
            "Time elapsed =      5.334 | E =    -107.6541224379 | DE = -2.84e-14 | DW = 6.46e-11\n",
            "\n",
            "Sweep =    7 | Direction = backward | Bond dimension =  500 | Noise =  1.00e-05 | Dav threshold =  1.00e-10\n",
            "Time elapsed =      6.152 | E =    -107.6541224379 | DE = 7.39e-13 | DW = 6.10e-20\n",
            "\n",
            "Sweep =    8 | Direction =  forward | Bond dimension =  500 | Noise =  0.00e+00 | Dav threshold =  1.00e-09\n",
            "Time elapsed =      6.622 | E =    -107.6541224379 | DE = 0.00e+00 | DW = 8.35e-20\n",
            "\n",
            "DMRG energy = -107.654122437940984\n"
          ]
        }
      ],
      "source": [
        "driver = DMRGDriver(scratch=\"./tmp\", symm_type=SymmetryTypes.SGF, n_threads=4)\n",
        "\n",
        "driver.n_sites = ncas\n",
        "g2e = driver.unpack_g2e(g2e)\n",
        "orb_sym = [orb_sym[i // 2] for i in range(len(orb_sym) * 2)]\n",
        "n_sites = ncas * 2\n",
        "\n",
        "driver.initialize_system(n_sites=n_sites, n_elec=n_elec, spin=spin, orb_sym=orb_sym)\n",
        "\n",
        "mpo = driver.get_qc_mpo(h1e=h1e, g2e=g2e, ecore=ecore, iprint=1)\n",
        "energies = run_dmrg(driver, mpo)\n",
        "print('DMRG energy = %20.15f' % energies)"
      ]
    },
    {
      "cell_type": "markdown",
      "metadata": {
        "id": "-auHBxs_5KpK"
      },
      "source": [
        "## The ``SZ`` Mode\n",
        "\n",
        "Here we use ``get_uhf_integrals`` function to get the integrals."
      ]
    },
    {
      "cell_type": "code",
      "execution_count": 6,
      "metadata": {
        "colab": {
          "base_uri": "https://localhost:8080/"
        },
        "id": "dQ_84lHJ3Zbw",
        "outputId": "d88a62bb-4308-4f61-c5fb-b70047754e97"
      },
      "outputs": [
        {
          "name": "stdout",
          "output_type": "stream",
          "text": [
            "integral symmetrize error =  1.6337544812742183e-13\n",
            "integral cutoff error =  0.0\n",
            "mpo terms =       2778\n",
            "\n",
            "Build MPO | Nsites =    10 | Nterms =       2778 | Algorithm = FastBIP | Cutoff = 1.00e-20\n",
            " Site =     0 /    10 .. Mmpo =    26 DW = 0.00e+00 NNZ =       26 SPT = 0.0000 Tmvc = 0.000 T = 0.011\n",
            " Site =     1 /    10 .. Mmpo =    66 DW = 0.00e+00 NNZ =      143 SPT = 0.9167 Tmvc = 0.001 T = 0.008\n",
            " Site =     2 /    10 .. Mmpo =   110 DW = 0.00e+00 NNZ =      283 SPT = 0.9610 Tmvc = 0.001 T = 0.008\n",
            " Site =     3 /    10 .. Mmpo =   138 DW = 0.00e+00 NNZ =     1023 SPT = 0.9326 Tmvc = 0.001 T = 0.009\n",
            " Site =     4 /    10 .. Mmpo =   158 DW = 0.00e+00 NNZ =      535 SPT = 0.9755 Tmvc = 0.001 T = 0.007\n",
            " Site =     5 /    10 .. Mmpo =   186 DW = 0.00e+00 NNZ =      463 SPT = 0.9842 Tmvc = 0.000 T = 0.006\n",
            " Site =     6 /    10 .. Mmpo =   106 DW = 0.00e+00 NNZ =      415 SPT = 0.9790 Tmvc = 0.000 T = 0.006\n",
            " Site =     7 /    10 .. Mmpo =    58 DW = 0.00e+00 NNZ =      163 SPT = 0.9735 Tmvc = 0.000 T = 0.004\n",
            " Site =     8 /    10 .. Mmpo =    26 DW = 0.00e+00 NNZ =       87 SPT = 0.9423 Tmvc = 0.000 T = 0.005\n",
            " Site =     9 /    10 .. Mmpo =     1 DW = 0.00e+00 NNZ =       26 SPT = 0.0000 Tmvc = 0.000 T = 0.022\n",
            "Ttotal =      0.084 Tmvc-total = 0.005 MPO bond dimension =   186 MaxDW = 0.00e+00\n",
            "NNZ =         3164 SIZE =       102772 SPT = 0.9692\n",
            "\n",
            "Rank =     0 Ttotal =      0.156 MPO method = FastBipartite bond dimension =     186 NNZ =         3164 SIZE =       102772 SPT = 0.9692\n",
            "\n",
            "Sweep =    0 | Direction =  forward | Bond dimension =  250 | Noise =  1.00e-04 | Dav threshold =  1.00e-10\n",
            "Time elapsed =      0.760 | E =    -107.6541224475 | DW = 4.14e-08\n",
            "\n",
            "Sweep =    1 | Direction = backward | Bond dimension =  250 | Noise =  1.00e-04 | Dav threshold =  1.00e-10\n",
            "Time elapsed =      1.212 | E =    -107.6541224475 | DE = -6.31e-12 | DW = 5.16e-09\n",
            "\n",
            "Sweep =    2 | Direction =  forward | Bond dimension =  250 | Noise =  1.00e-04 | Dav threshold =  1.00e-10\n",
            "Time elapsed =      1.639 | E =    -107.6541224475 | DE = -3.98e-13 | DW = 4.14e-08\n",
            "\n",
            "Sweep =    3 | Direction = backward | Bond dimension =  250 | Noise =  1.00e-04 | Dav threshold =  1.00e-10\n",
            "Time elapsed =      2.111 | E =    -107.6541224475 | DE = 6.54e-13 | DW = 5.05e-09\n",
            "\n",
            "Sweep =    4 | Direction =  forward | Bond dimension =  500 | Noise =  1.00e-05 | Dav threshold =  1.00e-10\n",
            "Time elapsed =      2.639 | E =    -107.6541224475 | DE = -5.97e-13 | DW = 3.61e-11\n",
            "\n",
            "Sweep =    5 | Direction = backward | Bond dimension =  500 | Noise =  1.00e-05 | Dav threshold =  1.00e-10\n",
            "Time elapsed =      3.183 | E =    -107.6541224475 | DE = 7.67e-13 | DW = 1.77e-19\n",
            "\n",
            "Sweep =    6 | Direction =  forward | Bond dimension =  500 | Noise =  1.00e-05 | Dav threshold =  1.00e-10\n",
            "Time elapsed =      3.730 | E =    -107.6541224475 | DE = 0.00e+00 | DW = 3.60e-11\n",
            "\n",
            "Sweep =    7 | Direction = backward | Bond dimension =  500 | Noise =  1.00e-05 | Dav threshold =  1.00e-10\n",
            "Time elapsed =      4.268 | E =    -107.6541224475 | DE = -1.59e-12 | DW = 2.08e-19\n",
            "\n",
            "Sweep =    8 | Direction =  forward | Bond dimension =  500 | Noise =  0.00e+00 | Dav threshold =  1.00e-09\n",
            "Time elapsed =      4.625 | E =    -107.6541224475 | DE = 5.68e-14 | DW = 6.06e-20\n",
            "\n",
            "DMRG energy = -107.654122447524500\n"
          ]
        }
      ],
      "source": [
        "from pyscf import gto, scf\n",
        "\n",
        "mol = gto.M(atom=\"N 0 0 0; N 0 0 1.1\", basis=\"sto3g\", symmetry=\"d2h\", verbose=0)\n",
        "mf = scf.UHF(mol).run(conv_tol=1E-14)\n",
        "ncas, n_elec, spin, ecore, h1e, g2e, orb_sym = itg.get_uhf_integrals(mf,\n",
        "    ncore=0, ncas=None, g2e_symm=8)\n",
        "\n",
        "driver = DMRGDriver(scratch=\"./tmp\", symm_type=SymmetryTypes.SZ, n_threads=4)\n",
        "driver.initialize_system(n_sites=ncas, n_elec=n_elec, spin=spin, orb_sym=orb_sym)\n",
        "\n",
        "mpo = driver.get_qc_mpo(h1e=h1e, g2e=g2e, ecore=ecore, iprint=1)\n",
        "energies = run_dmrg(driver, mpo)\n",
        "print('DMRG energy = %20.15f' % energies)"
      ]
    },
    {
      "cell_type": "markdown",
      "metadata": {
        "id": "xBptlc0J5m7x"
      },
      "source": [
        "## The ``SGF`` Mode\n",
        "\n",
        "Here we use ``get_ghf_integrals`` function to get the integrals."
      ]
    },
    {
      "cell_type": "code",
      "execution_count": 7,
      "metadata": {
        "colab": {
          "base_uri": "https://localhost:8080/"
        },
        "id": "4aRS3PNz5iCK",
        "outputId": "c4e118c0-565a-4eaf-823a-795000f80c61"
      },
      "outputs": [
        {
          "name": "stdout",
          "output_type": "stream",
          "text": [
            "integral symmetrize error =  2.1868782025982333e-13\n",
            "integral cutoff error =  0.0\n",
            "mpo terms =       5558\n",
            "\n",
            "Build MPO | Nsites =    20 | Nterms =       5558 | Algorithm = FastBIP | Cutoff = 1.00e-20\n",
            " Site =     0 /    20 .. Mmpo =     7 DW = 0.00e+00 NNZ =        7 SPT = 0.0000 Tmvc = 0.001 T = 0.006\n",
            " Site =     1 /    20 .. Mmpo =    20 DW = 0.00e+00 NNZ =       19 SPT = 0.8643 Tmvc = 0.001 T = 0.005\n",
            " Site =     2 /    20 .. Mmpo =    47 DW = 0.00e+00 NNZ =       49 SPT = 0.9479 Tmvc = 0.001 T = 0.006\n",
            " Site =     3 /    20 .. Mmpo =    62 DW = 0.00e+00 NNZ =      251 SPT = 0.9139 Tmvc = 0.001 T = 0.008\n",
            " Site =     4 /    20 .. Mmpo =    81 DW = 0.00e+00 NNZ =      273 SPT = 0.9456 Tmvc = 0.001 T = 0.008\n",
            " Site =     5 /    20 .. Mmpo =   104 DW = 0.00e+00 NNZ =      357 SPT = 0.9576 Tmvc = 0.001 T = 0.008\n",
            " Site =     6 /    20 .. Mmpo =   129 DW = 0.00e+00 NNZ =      561 SPT = 0.9582 Tmvc = 0.001 T = 0.009\n",
            " Site =     7 /    20 .. Mmpo =   126 DW = 0.00e+00 NNZ =     2148 SPT = 0.8678 Tmvc = 0.001 T = 0.017\n",
            " Site =     8 /    20 .. Mmpo =   155 DW = 0.00e+00 NNZ =      208 SPT = 0.9893 Tmvc = 0.001 T = 0.006\n",
            " Site =     9 /    20 .. Mmpo =   148 DW = 0.00e+00 NNZ =      652 SPT = 0.9716 Tmvc = 0.001 T = 0.006\n",
            " Site =    10 /    20 .. Mmpo =   181 DW = 0.00e+00 NNZ =      376 SPT = 0.9860 Tmvc = 0.001 T = 0.005\n",
            " Site =    11 /    20 .. Mmpo =   178 DW = 0.00e+00 NNZ =      678 SPT = 0.9790 Tmvc = 0.000 T = 0.006\n",
            " Site =    12 /    20 .. Mmpo =   147 DW = 0.00e+00 NNZ =      488 SPT = 0.9813 Tmvc = 0.000 T = 0.005\n",
            " Site =    13 /    20 .. Mmpo =   100 DW = 0.00e+00 NNZ =      402 SPT = 0.9727 Tmvc = 0.000 T = 0.004\n",
            " Site =    14 /    20 .. Mmpo =    77 DW = 0.00e+00 NNZ =      192 SPT = 0.9751 Tmvc = 0.000 T = 0.003\n",
            " Site =    15 /    20 .. Mmpo =    54 DW = 0.00e+00 NNZ =      110 SPT = 0.9735 Tmvc = 0.000 T = 0.003\n",
            " Site =    16 /    20 .. Mmpo =    39 DW = 0.00e+00 NNZ =      124 SPT = 0.9411 Tmvc = 0.000 T = 0.003\n",
            " Site =    17 /    20 .. Mmpo =    20 DW = 0.00e+00 NNZ =       74 SPT = 0.9051 Tmvc = 0.000 T = 0.004\n",
            " Site =    18 /    20 .. Mmpo =     7 DW = 0.00e+00 NNZ =       20 SPT = 0.8571 Tmvc = 0.000 T = 0.002\n",
            " Site =    19 /    20 .. Mmpo =     1 DW = 0.00e+00 NNZ =        7 SPT = 0.0000 Tmvc = 0.000 T = 0.002\n",
            "Ttotal =      0.117 Tmvc-total = 0.011 MPO bond dimension =   181 MaxDW = 0.00e+00\n",
            "NNZ =         6996 SIZE =       204350 SPT = 0.9658\n",
            "\n",
            "Rank =     0 Ttotal =      0.179 MPO method = FastBipartite bond dimension =     181 NNZ =         6996 SIZE =       204350 SPT = 0.9658\n",
            "\n",
            "Sweep =    0 | Direction =  forward | Bond dimension =  250 | Noise =  1.00e-04 | Dav threshold =  1.00e-10\n",
            "Time elapsed =      1.134 | E =    -107.6541212639 | DW = 8.36e-08\n",
            "\n",
            "Sweep =    1 | Direction = backward | Bond dimension =  250 | Noise =  1.00e-04 | Dav threshold =  1.00e-10\n",
            "Time elapsed =      1.950 | E =    -107.6541223350 | DE = -1.07e-06 | DW = 7.36e-08\n",
            "\n",
            "Sweep =    2 | Direction =  forward | Bond dimension =  250 | Noise =  1.00e-04 | Dav threshold =  1.00e-10\n",
            "Time elapsed =      2.724 | E =    -107.6541224346 | DE = -9.96e-08 | DW = 8.41e-08\n",
            "\n",
            "Sweep =    3 | Direction = backward | Bond dimension =  250 | Noise =  1.00e-04 | Dav threshold =  1.00e-10\n",
            "Time elapsed =      3.468 | E =    -107.6541224346 | DE = 5.46e-12 | DW = 7.07e-08\n",
            "\n",
            "Sweep =    4 | Direction =  forward | Bond dimension =  500 | Noise =  1.00e-05 | Dav threshold =  1.00e-10\n",
            "Time elapsed =      4.491 | E =    -107.6541224379 | DE = -3.33e-09 | DW = 8.98e-11\n",
            "\n",
            "Sweep =    5 | Direction = backward | Bond dimension =  500 | Noise =  1.00e-05 | Dav threshold =  1.00e-10\n",
            "Time elapsed =      5.559 | E =    -107.6541224379 | DE = -8.81e-12 | DW = 7.12e-20\n",
            "\n",
            "Sweep =    6 | Direction =  forward | Bond dimension =  500 | Noise =  1.00e-05 | Dav threshold =  1.00e-10\n",
            "Time elapsed =      6.629 | E =    -107.6541224379 | DE = 2.84e-14 | DW = 8.98e-11\n",
            "\n",
            "Sweep =    7 | Direction = backward | Bond dimension =  500 | Noise =  1.00e-05 | Dav threshold =  1.00e-10\n",
            "Time elapsed =      7.637 | E =    -107.6541224379 | DE = 2.87e-12 | DW = 7.32e-20\n",
            "\n",
            "Sweep =    8 | Direction =  forward | Bond dimension =  500 | Noise =  0.00e+00 | Dav threshold =  1.00e-09\n",
            "Time elapsed =      8.246 | E =    -107.6541224379 | DE = 2.84e-14 | DW = 6.41e-20\n",
            "\n",
            "DMRG energy = -107.654122437938625\n"
          ]
        }
      ],
      "source": [
        "from pyscf import gto, scf\n",
        "\n",
        "mol = gto.M(atom=\"N 0 0 0; N 0 0 1.1\", basis=\"sto3g\", symmetry=\"d2h\", verbose=0)\n",
        "mf = scf.GHF(mol).run(conv_tol=1E-14)\n",
        "ncas, n_elec, spin, ecore, h1e, g2e, orb_sym = itg.get_ghf_integrals(mf,\n",
        "    ncore=0, ncas=None, g2e_symm=8)\n",
        "\n",
        "driver = DMRGDriver(scratch=\"./tmp\", symm_type=SymmetryTypes.SGF, n_threads=4)\n",
        "driver.initialize_system(n_sites=ncas, n_elec=n_elec, spin=spin, orb_sym=orb_sym)\n",
        "\n",
        "mpo = driver.get_qc_mpo(h1e=h1e, g2e=g2e, ecore=ecore, iprint=1)\n",
        "energies = run_dmrg(driver, mpo)\n",
        "print('DMRG energy = %20.15f' % energies)"
      ]
    },
    {
      "cell_type": "markdown",
      "metadata": {
        "id": "yM7OGJQV556O"
      },
      "source": [
        "## Relativistic DMRG\n",
        "\n",
        "For relativistic DMRG, we use ``get_dhf_integrals`` function to get the integrals. We use the ``SGFCPX`` Mode in ``block2`` to execute DMRG. Note that the integrals, MPO, and MPS will all contain complex numbers in this mode."
      ]
    },
    {
      "cell_type": "code",
      "execution_count": 8,
      "metadata": {
        "colab": {
          "base_uri": "https://localhost:8080/"
        },
        "id": "16tFcwdw50gU",
        "outputId": "610300dc-1c3f-4d84-bbdb-a042dd33274b"
      },
      "outputs": [
        {
          "name": "stdout",
          "output_type": "stream",
          "text": [
            "integral symmetrize error =  0.0\n",
            "integral cutoff error =  0.0\n",
            "mpo terms =      25159\n",
            "\n",
            "Build MPO | Nsites =    20 | Nterms =      25159 | Algorithm = FastBIP | Cutoff = 1.00e-20\n",
            " Site =     0 /    20 .. Mmpo =     9 DW = 0.00e+00 NNZ =        9 SPT = 0.0000 Tmvc = 0.001 T = 0.010\n",
            " Site =     1 /    20 .. Mmpo =    28 DW = 0.00e+00 NNZ =       23 SPT = 0.9087 Tmvc = 0.002 T = 0.011\n",
            " Site =     2 /    20 .. Mmpo =    63 DW = 0.00e+00 NNZ =      322 SPT = 0.8175 Tmvc = 0.002 T = 0.023\n",
            " Site =     3 /    20 .. Mmpo =    78 DW = 0.00e+00 NNZ =      437 SPT = 0.9111 Tmvc = 0.003 T = 0.026\n",
            " Site =     4 /    20 .. Mmpo =    97 DW = 0.00e+00 NNZ =      529 SPT = 0.9301 Tmvc = 0.003 T = 0.019\n",
            " Site =     5 /    20 .. Mmpo =   120 DW = 0.00e+00 NNZ =      734 SPT = 0.9369 Tmvc = 0.003 T = 0.019\n",
            " Site =     6 /    20 .. Mmpo =   147 DW = 0.00e+00 NNZ =      849 SPT = 0.9519 Tmvc = 0.003 T = 0.018\n",
            " Site =     7 /    20 .. Mmpo =   178 DW = 0.00e+00 NNZ =     1071 SPT = 0.9591 Tmvc = 0.005 T = 0.024\n",
            " Site =     8 /    20 .. Mmpo =   213 DW = 0.00e+00 NNZ =     1862 SPT = 0.9509 Tmvc = 0.004 T = 0.021\n",
            " Site =     9 /    20 .. Mmpo =   252 DW = 0.00e+00 NNZ =     2049 SPT = 0.9618 Tmvc = 0.003 T = 0.019\n",
            " Site =    10 /    20 .. Mmpo =   213 DW = 0.00e+00 NNZ =    10592 SPT = 0.8027 Tmvc = 0.003 T = 0.035\n",
            " Site =    11 /    20 .. Mmpo =   178 DW = 0.00e+00 NNZ =     1615 SPT = 0.9574 Tmvc = 0.002 T = 0.013\n",
            " Site =    12 /    20 .. Mmpo =   147 DW = 0.00e+00 NNZ =     1330 SPT = 0.9492 Tmvc = 0.001 T = 0.009\n",
            " Site =    13 /    20 .. Mmpo =   120 DW = 0.00e+00 NNZ =     1251 SPT = 0.9291 Tmvc = 0.001 T = 0.008\n",
            " Site =    14 /    20 .. Mmpo =    97 DW = 0.00e+00 NNZ =      892 SPT = 0.9234 Tmvc = 0.001 T = 0.012\n",
            " Site =    15 /    20 .. Mmpo =    78 DW = 0.00e+00 NNZ =      640 SPT = 0.9154 Tmvc = 0.000 T = 0.006\n",
            " Site =    16 /    20 .. Mmpo =    63 DW = 0.00e+00 NNZ =      327 SPT = 0.9335 Tmvc = 0.000 T = 0.004\n",
            " Site =    17 /    20 .. Mmpo =    28 DW = 0.00e+00 NNZ =      238 SPT = 0.8651 Tmvc = 0.000 T = 0.005\n",
            " Site =    18 /    20 .. Mmpo =     9 DW = 0.00e+00 NNZ =       36 SPT = 0.8571 Tmvc = 0.000 T = 0.003\n",
            " Site =    19 /    20 .. Mmpo =     1 DW = 0.00e+00 NNZ =        9 SPT = 0.0000 Tmvc = 0.000 T = 0.004\n",
            "Ttotal =      0.290 Tmvc-total = 0.039 MPO bond dimension =   252 MaxDW = 0.00e+00\n",
            "NNZ =        24815 SIZE =       323082 SPT = 0.9232\n",
            "\n",
            "Rank =     0 Ttotal =      0.392 MPO method = FastBipartite bond dimension =     252 NNZ =        24815 SIZE =       323082 SPT = 0.9232\n",
            "\n",
            "Sweep =    0 | Direction =  forward | Bond dimension =  250 | Noise =  1.00e-04 | Dav threshold =  1.00e-10\n",
            "Time elapsed =     22.363 | E =    -107.6929206587 | DW = 7.27e-10\n",
            "\n",
            "Sweep =    1 | Direction = backward | Bond dimension =  250 | Noise =  1.00e-04 | Dav threshold =  1.00e-10\n",
            "Time elapsed =     32.328 | E =    -107.6929209464 | DE = -2.88e-07 | DW = 5.45e-10\n",
            "\n",
            "Sweep =    2 | Direction =  forward | Bond dimension =  250 | Noise =  1.00e-04 | Dav threshold =  1.00e-10\n",
            "Time elapsed =     40.573 | E =    -107.6929209492 | DE = -2.81e-09 | DW = 2.39e-10\n",
            "\n",
            "Sweep =    3 | Direction = backward | Bond dimension =  250 | Noise =  1.00e-04 | Dav threshold =  1.00e-10\n",
            "Time elapsed =     47.423 | E =    -107.6929209492 | DE = -7.39e-13 | DW = 5.47e-10\n",
            "\n",
            "Sweep =    4 | Direction =  forward | Bond dimension =  500 | Noise =  1.00e-05 | Dav threshold =  1.00e-10\n",
            "Time elapsed =     62.236 | E =    -107.6929209492 | DE = -2.27e-13 | DW = 9.42e-20\n",
            "\n",
            "Sweep =    5 | Direction = backward | Bond dimension =  500 | Noise =  1.00e-05 | Dav threshold =  1.00e-10\n",
            "Time elapsed =     75.333 | E =    -107.6929209492 | DE = -1.42e-13 | DW = 1.13e-19\n",
            "\n",
            "Sweep =    6 | Direction =  forward | Bond dimension =  500 | Noise =  1.00e-05 | Dav threshold =  1.00e-10\n",
            "Time elapsed =     89.485 | E =    -107.6929209492 | DE = 5.68e-14 | DW = 6.42e-20\n",
            "\n",
            "Sweep =    7 | Direction = backward | Bond dimension =  500 | Noise =  1.00e-05 | Dav threshold =  1.00e-10\n",
            "Time elapsed =    102.206 | E =    -107.6929209492 | DE = 2.84e-14 | DW = 1.31e-19\n",
            "\n",
            "Sweep =    8 | Direction =  forward | Bond dimension =  500 | Noise =  0.00e+00 | Dav threshold =  1.00e-09\n",
            "Time elapsed =    108.476 | E =    -107.6929209492 | DE = 2.84e-14 | DW = 7.72e-20\n",
            "\n",
            "DMRG energy = -107.692920949170500\n"
          ]
        }
      ],
      "source": [
        "from pyscf import gto, scf\n",
        "\n",
        "mol = gto.M(atom=\"N 0 0 0; N 0 0 1.1\", basis=\"sto3g\", symmetry=\"d2h\", verbose=0)\n",
        "mf = scf.DHF(mol).set(with_gaunt=True, with_breit=True).run(conv_tol=1E-12)\n",
        "ncas, n_elec, spin, ecore, h1e, g2e, orb_sym = itg.get_dhf_integrals(mf,\n",
        "    ncore=0, ncas=None, pg_symm=False)\n",
        "\n",
        "driver = DMRGDriver(scratch=\"./tmp\", symm_type=SymmetryTypes.SGFCPX, n_threads=4)\n",
        "driver.initialize_system(n_sites=ncas, n_elec=n_elec, spin=spin, orb_sym=orb_sym)\n",
        "\n",
        "mpo = driver.get_qc_mpo(h1e=h1e, g2e=g2e, ecore=ecore, iprint=1)\n",
        "energies = run_dmrg(driver, mpo)\n",
        "print('DMRG energy = %20.15f' % energies)"
      ]
    },
    {
      "cell_type": "markdown",
      "metadata": {
        "id": "r8wd-wIq7pKV"
      },
      "source": [
        "## Expectation and N-Particle Density Matrix"
      ]
    },
    {
      "cell_type": "markdown",
      "metadata": {
        "id": "Q2jepYQu7vOW"
      },
      "source": [
        "Once the optimized MPS is obtained, we can compute the expectation value on it, including its norm, the energy expectation, $\\langle S^2 \\rangle$, N-particle density matrix, or any operator that can be constructed as an MPO.\n",
        "\n",
        "In this example, we compute the triplet state."
      ]
    },
    {
      "cell_type": "code",
      "execution_count": 9,
      "metadata": {
        "colab": {
          "base_uri": "https://localhost:8080/"
        },
        "id": "sYihDUiI6mTn",
        "outputId": "750319c1-e67d-4bea-889e-9e06c04383ab"
      },
      "outputs": [
        {
          "name": "stdout",
          "output_type": "stream",
          "text": [
            "DMRG energy = -106.939132859666657\n",
            "Norm =    1.000000000000000\n",
            "Energy expectation = -106.939132859666657\n",
            "<S^2> expectation =    2.000000000000000\n"
          ]
        }
      ],
      "source": [
        "from pyscf import gto, scf\n",
        "\n",
        "mol = gto.M(atom=\"N 0 0 0; N 0 0 1.1\", basis=\"sto3g\", symmetry=\"d2h\", verbose=0)\n",
        "mf = scf.RHF(mol).run(conv_tol=1E-14)\n",
        "ncas, n_elec, spin, ecore, h1e, g2e, orb_sym = itg.get_rhf_integrals(mf,\n",
        "    ncore=0, ncas=None, g2e_symm=8)\n",
        "\n",
        "spin = 2\n",
        "\n",
        "driver = DMRGDriver(scratch=\"./tmp\", symm_type=SymmetryTypes.SU2, n_threads=4)\n",
        "driver.initialize_system(n_sites=ncas, n_elec=n_elec, spin=spin, orb_sym=orb_sym)\n",
        "\n",
        "mpo = driver.get_qc_mpo(h1e=h1e, g2e=g2e, ecore=ecore, iprint=0)\n",
        "\n",
        "ket = driver.get_random_mps(tag=\"GS\", bond_dim=250, nroots=1)\n",
        "bond_dims = [250] * 4 + [500] * 4\n",
        "noises = [1e-4] * 4 + [1e-5] * 4 + [0]\n",
        "thrds = [1e-10] * 8\n",
        "energies = driver.dmrg(\n",
        "    mpo,\n",
        "    ket,\n",
        "    n_sweeps=20,\n",
        "    bond_dims=bond_dims,\n",
        "    noises=noises,\n",
        "    thrds=thrds,\n",
        "    iprint=0,\n",
        ")\n",
        "\n",
        "print('DMRG energy = %20.15f' % energies)\n",
        "\n",
        "impo = driver.get_identity_mpo()\n",
        "\n",
        "norm = driver.expectation(ket, impo, ket)\n",
        "ener = driver.expectation(ket, mpo, ket)\n",
        "\n",
        "print('Norm = %20.15f' % norm)\n",
        "print('Energy expectation = %20.15f' % (ener / norm))\n",
        "\n",
        "# <S^2> [ in spin-adapted mode this is always S(S+1) ]\n",
        "ssq_mpo = driver.get_spin_square_mpo(iprint=0)\n",
        "ssq = driver.expectation(ket, ssq_mpo, ket)\n",
        "print('<S^2> expectation = %20.15f' % (ssq / norm))"
      ]
    },
    {
      "cell_type": "markdown",
      "metadata": {
        "id": "5uw83pUS9hkY"
      },
      "source": [
        "We can also evaluate expectation of arbitray operator such as the occupancy in the first orbital\n",
        "\n",
        "$$\n",
        "\\hat{N}_0 = a^\\dagger_{0\\alpha} a_{0\\alpha} + a^\\dagger_{0\\beta} a_{0\\beta}\n",
        "= \\sqrt{2} \\big(a_0^\\dagger\\big)^{[1/2]} \\otimes_{[0]} \\big(a_0\\big)^{[1/2]}\n",
        "$$"
      ]
    },
    {
      "cell_type": "code",
      "execution_count": 10,
      "metadata": {
        "colab": {
          "base_uri": "https://localhost:8080/"
        },
        "id": "gRqEzZnK8d8h",
        "outputId": "fc1c2950-95ef-4df7-ca3e-c68a6197f54b"
      },
      "outputs": [
        {
          "name": "stdout",
          "output_type": "stream",
          "text": [
            "N0 expectation =    1.999995824363186\n"
          ]
        }
      ],
      "source": [
        "b = driver.expr_builder()\n",
        "b.add_term(\"(C+D)0\", [0, 0], np.sqrt(2))\n",
        "n_mpo = driver.get_mpo(b.finalize(), iprint=0)\n",
        "\n",
        "n_0 = driver.expectation(ket, n_mpo, ket)\n",
        "print('N0 expectation = %20.15f' % (n_0 / norm))"
      ]
    },
    {
      "cell_type": "markdown",
      "metadata": {
        "id": "axO7Quw3-L9v"
      },
      "source": [
        "We can then verify this number using 1PDM:"
      ]
    },
    {
      "cell_type": "code",
      "execution_count": 11,
      "metadata": {
        "colab": {
          "base_uri": "https://localhost:8080/"
        },
        "id": "AiPieq3Z-JrA",
        "outputId": "8d8fb48c-aeb4-4c69-d483-19df3c8ee78c"
      },
      "outputs": [
        {
          "name": "stdout",
          "output_type": "stream",
          "text": [
            "N0 expectation from 1pdm =    1.999995824363186\n"
          ]
        }
      ],
      "source": [
        "pdm1 = driver.get_1pdm(ket)\n",
        "print('N0 expectation from 1pdm = %20.15f' % pdm1[0, 0])"
      ]
    },
    {
      "cell_type": "markdown",
      "metadata": {
        "id": "xdFhzPE7-rb6"
      },
      "source": [
        "We can compute the 3PDM and compare the result with the FCI 3PDM. Note that in ``pyscf`` the 3PDM is defined as \n",
        "\n",
        "$$\n",
        "\\mathrm{DM}_{ijklmn} := \\langle E_{ij} E_{kl} E_{mn} \\rangle\n",
        "$$\n",
        "\n",
        "So we have to use the same convention in ``block2`` by setting the ``su2_coupling`` parameter in ``block2`` to ``((C+D)0+%s)0``, which will set the spin coupling of 3PDM to ``((C+D)0+((C+D)0+(C+D)0)0)0``.\n"
      ]
    },
    {
      "cell_type": "code",
      "execution_count": 12,
      "metadata": {
        "colab": {
          "base_uri": "https://localhost:8080/"
        },
        "id": "NIxjfBJP-byp",
        "outputId": "1e3354fe-858f-4019-a263-6645f360435c"
      },
      "outputs": [
        {
          "name": "stdout",
          "output_type": "stream",
          "text": [
            "[-106.93913286 -106.85412245 -106.70055113]\n",
            "diff =  8.969447473020382e-06\n"
          ]
        }
      ],
      "source": [
        "pdm3_b2 = driver.get_3pdm(ket, iprint=0, su2_coupling=\"((C+D)0+%s)0\")\n",
        "\n",
        "from pyscf import fci\n",
        "\n",
        "mx = fci.addons.fix_spin_(fci.FCI(mf), ss=2)\n",
        "mx.kernel(h1e, g2e, ncas, nelec=n_elec, nroots=3, tol=1E-12)\n",
        "print(mx.e_tot)\n",
        "pdm3_fci = fci.rdm.make_dm123('FCI3pdm_kern_sf', mx.ci[0], mx.ci[0], ncas, n_elec)[2]\n",
        "\n",
        "print('diff = ', np.linalg.norm(pdm3_fci - pdm3_b2))"
      ]
    },
    {
      "cell_type": "code",
      "execution_count": null,
      "metadata": {
        "id": "ZkOLNBMlEvDA"
      },
      "outputs": [],
      "source": []
    }
  ],
  "metadata": {
    "colab": {
      "provenance": []
    },
    "kernelspec": {
      "display_name": "base",
      "language": "python",
      "name": "python3"
    },
    "language_info": {
      "name": "python",
      "version": "3.7.4 (default, Aug 13 2019, 20:35:49) \n[GCC 7.3.0]"
    },
    "vscode": {
      "interpreter": {
        "hash": "27e05368924b5fa5d1b4676765ee251cffbbae96bfd5fe75f3294f22031a42f3"
      }
    }
  },
  "nbformat": 4,
  "nbformat_minor": 0
}
